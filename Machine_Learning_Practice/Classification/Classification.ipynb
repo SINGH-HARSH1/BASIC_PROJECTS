{
 "cells": [
  {
   "cell_type": "code",
   "execution_count": 1,
   "id": "f49e199d",
   "metadata": {},
   "outputs": [],
   "source": [
    "import numpy as np\n",
    "import pandas as pd\n",
    "from sklearn.datasets import fetch_openml"
   ]
  },
  {
   "cell_type": "markdown",
   "id": "0960d839",
   "metadata": {},
   "source": [
    "### MNIST"
   ]
  },
  {
   "cell_type": "code",
   "execution_count": 2,
   "id": "13ecacff",
   "metadata": {},
   "outputs": [],
   "source": [
    "mnist = fetch_openml(\"mnist_784\", version=1)"
   ]
  },
  {
   "cell_type": "code",
   "execution_count": 3,
   "id": "4ec07f62",
   "metadata": {},
   "outputs": [
    {
     "data": {
      "text/plain": [
       "dict_keys(['data', 'target', 'feature_names', 'DESCR', 'details', 'categories', 'url'])"
      ]
     },
     "execution_count": 3,
     "metadata": {},
     "output_type": "execute_result"
    }
   ],
   "source": [
    "mnist.keys()"
   ]
  },
  {
   "cell_type": "code",
   "execution_count": 4,
   "id": "c3e7efef",
   "metadata": {},
   "outputs": [],
   "source": [
    "# Making the datasets"
   ]
  },
  {
   "cell_type": "code",
   "execution_count": 5,
   "id": "f931a972",
   "metadata": {},
   "outputs": [],
   "source": [
    "X = mnist[\"data\"]\n",
    "y = mnist[\"target\"]"
   ]
  },
  {
   "cell_type": "code",
   "execution_count": 6,
   "id": "2f0db307",
   "metadata": {},
   "outputs": [
    {
     "data": {
      "text/plain": [
       "(70000, 784)"
      ]
     },
     "execution_count": 6,
     "metadata": {},
     "output_type": "execute_result"
    }
   ],
   "source": [
    "X.shape"
   ]
  },
  {
   "cell_type": "code",
   "execution_count": 7,
   "id": "6f0cfd05",
   "metadata": {},
   "outputs": [
    {
     "data": {
      "text/plain": [
       "(70000,)"
      ]
     },
     "execution_count": 7,
     "metadata": {},
     "output_type": "execute_result"
    }
   ],
   "source": [
    "y.shape"
   ]
  },
  {
   "cell_type": "code",
   "execution_count": 8,
   "id": "4837b2b6",
   "metadata": {},
   "outputs": [],
   "source": [
    "import matplotlib.pyplot as plt\n",
    "%matplotlib inline"
   ]
  },
  {
   "cell_type": "code",
   "execution_count": 9,
   "id": "b34b23ba",
   "metadata": {},
   "outputs": [
    {
     "data": {
      "text/plain": [
       "numpy.ndarray"
      ]
     },
     "execution_count": 9,
     "metadata": {},
     "output_type": "execute_result"
    }
   ],
   "source": [
    "type(X)"
   ]
  },
  {
   "cell_type": "code",
   "execution_count": 10,
   "id": "ae941c7d",
   "metadata": {},
   "outputs": [
    {
     "data": {
      "image/png": "[encoded data removed]",
      "text/plain": [
       "<Figure size 432x288 with 1 Axes>"
      ]
     },
     "metadata": {
      "needs_background": "light"
     },
     "output_type": "display_data"
    }
   ],
   "source": [
    "first_digit = X[0]\n",
    "first_digit_image = first_digit.reshape(28, 28)\n",
    "plt.imshow(first_digit_image, cmap=\"binary\")\n",
    "plt.axis(\"off\");"
   ]
  },
  {
   "cell_type": "code",
   "execution_count": 11,
   "id": "b71394df",
   "metadata": {},
   "outputs": [
    {
     "data": {
      "text/plain": [
       "'5'"
      ]
     },
     "execution_count": 11,
     "metadata": {},
     "output_type": "execute_result"
    }
   ],
   "source": [
    "y[0]"
   ]
  },
  {
   "cell_type": "code",
   "execution_count": 12,
   "id": "bace4e2d",
   "metadata": {},
   "outputs": [],
   "source": [
    "y = y.astype(np.uint8)"
   ]
  },
  {
   "cell_type": "code",
   "execution_count": 13,
   "id": "c7de7c20",
   "metadata": {},
   "outputs": [],
   "source": [
    "# Creating Test Set and Training Set"
   ]
  },
  {
   "cell_type": "code",
   "execution_count": 14,
   "id": "474fbacb",
   "metadata": {},
   "outputs": [],
   "source": [
    "X_train, X_test, y_train, y_test = X[:60000], X[60000:], y[:60000], y[60000:]"
   ]
  },
  {
   "cell_type": "code",
   "execution_count": 15,
   "id": "a3f0bbda",
   "metadata": {},
   "outputs": [
    {
     "data": {
      "text/plain": [
       "(60000, 784)"
      ]
     },
     "execution_count": 15,
     "metadata": {},
     "output_type": "execute_result"
    }
   ],
   "source": [
    "X_train.shape"
   ]
  },
  {
   "cell_type": "code",
   "execution_count": 16,
   "id": "a46dd23a",
   "metadata": {},
   "outputs": [],
   "source": [
    "import sklearn"
   ]
  },
  {
   "cell_type": "code",
   "execution_count": 17,
   "id": "10e02fa3",
   "metadata": {},
   "outputs": [
    {
     "name": "stdout",
     "output_type": "stream",
     "text": [
      "0.21.1\n"
     ]
    }
   ],
   "source": [
    "print(sklearn.__version__)"
   ]
  },
  {
   "cell_type": "code",
   "execution_count": 37,
   "id": "1bee0f4e",
   "metadata": {},
   "outputs": [],
   "source": [
    "from sklearn.ensemble import RandomForestClassifier\n",
    "from sklearn.linear_model import LogisticRegression\n",
    "from sklearn.tree import DecisionTreeClassifier\n",
    "from sklearn.naive_bayes import MultinomialNB\n",
    "from sklearn.neighbors import KNeighborsClassifier"
   ]
  },
  {
   "cell_type": "code",
   "execution_count": 38,
   "id": "f1734340",
   "metadata": {},
   "outputs": [],
   "source": [
    "rf_clf = RandomForestClassifier()\n",
    "lr_clf = LogisticRegression()\n",
    "dt_clf = DecisionTreeClassifier()\n",
    "nb_clf = MultinomialNB()\n",
    "knn_clf = KNeighborsClassifier()"
   ]
  },
  {
   "cell_type": "code",
   "execution_count": 20,
   "id": "18f27aaf",
   "metadata": {},
   "outputs": [],
   "source": [
    "# Checking the accuracy of the Multiple classifiers on the dataset"
   ]
  },
  {
   "cell_type": "code",
   "execution_count": 21,
   "id": "5fd8a4ed",
   "metadata": {},
   "outputs": [],
   "source": [
    "from sklearn.model_selection import cross_val_score"
   ]
  },
  {
   "cell_type": "code",
   "execution_count": 23,
   "id": "68f0844a",
   "metadata": {},
   "outputs": [
    {
     "name": "stderr",
     "output_type": "stream",
     "text": [
      "C:\\Users\\dell\\miniconda3\\envs\\Machinelearningenv\\lib\\site-packages\\sklearn\\ensemble\\forest.py:245: FutureWarning: The default value of n_estimators will change from 10 in version 0.20 to 100 in 0.22.\n",
      "  \"10 in version 0.20 to 100 in 0.22.\", FutureWarning)\n",
      "C:\\Users\\dell\\miniconda3\\envs\\Machinelearningenv\\lib\\site-packages\\sklearn\\utils\\fixes.py:223: DeprecationWarning: distutils Version classes are deprecated. Use packaging.version instead.\n",
      "  if _joblib.__version__ >= LooseVersion('0.12'):\n",
      "C:\\Users\\dell\\miniconda3\\envs\\Machinelearningenv\\lib\\site-packages\\sklearn\\utils\\fixes.py:223: DeprecationWarning: distutils Version classes are deprecated. Use packaging.version instead.\n",
      "  if _joblib.__version__ >= LooseVersion('0.12'):\n",
      "C:\\Users\\dell\\miniconda3\\envs\\Machinelearningenv\\lib\\site-packages\\sklearn\\ensemble\\forest.py:245: FutureWarning: The default value of n_estimators will change from 10 in version 0.20 to 100 in 0.22.\n",
      "  \"10 in version 0.20 to 100 in 0.22.\", FutureWarning)\n",
      "C:\\Users\\dell\\miniconda3\\envs\\Machinelearningenv\\lib\\site-packages\\sklearn\\utils\\fixes.py:223: DeprecationWarning: distutils Version classes are deprecated. Use packaging.version instead.\n",
      "  if _joblib.__version__ >= LooseVersion('0.12'):\n",
      "C:\\Users\\dell\\miniconda3\\envs\\Machinelearningenv\\lib\\site-packages\\sklearn\\utils\\fixes.py:223: DeprecationWarning: distutils Version classes are deprecated. Use packaging.version instead.\n",
      "  if _joblib.__version__ >= LooseVersion('0.12'):\n",
      "C:\\Users\\dell\\miniconda3\\envs\\Machinelearningenv\\lib\\site-packages\\sklearn\\linear_model\\logistic.py:432: FutureWarning: Default solver will be changed to 'lbfgs' in 0.22. Specify a solver to silence this warning.\n",
      "  FutureWarning)\n",
      "C:\\Users\\dell\\miniconda3\\envs\\Machinelearningenv\\lib\\site-packages\\sklearn\\linear_model\\logistic.py:469: FutureWarning: Default multi_class will be changed to 'auto' in 0.22. Specify the multi_class option to silence this warning.\n",
      "  \"this warning.\", FutureWarning)\n",
      "C:\\Users\\dell\\miniconda3\\envs\\Machinelearningenv\\lib\\site-packages\\sklearn\\svm\\base.py:929: ConvergenceWarning: Liblinear failed to converge, increase the number of iterations.\n",
      "  \"the number of iterations.\", ConvergenceWarning)\n",
      "C:\\Users\\dell\\miniconda3\\envs\\Machinelearningenv\\lib\\site-packages\\sklearn\\linear_model\\logistic.py:432: FutureWarning: Default solver will be changed to 'lbfgs' in 0.22. Specify a solver to silence this warning.\n",
      "  FutureWarning)\n",
      "C:\\Users\\dell\\miniconda3\\envs\\Machinelearningenv\\lib\\site-packages\\sklearn\\linear_model\\logistic.py:469: FutureWarning: Default multi_class will be changed to 'auto' in 0.22. Specify the multi_class option to silence this warning.\n",
      "  \"this warning.\", FutureWarning)\n",
      "C:\\Users\\dell\\miniconda3\\envs\\Machinelearningenv\\lib\\site-packages\\sklearn\\svm\\base.py:929: ConvergenceWarning: Liblinear failed to converge, increase the number of iterations.\n",
      "  \"the number of iterations.\", ConvergenceWarning)\n"
     ]
    }
   ],
   "source": [
    "rf_cv_score = cross_val_score(rf_clf, X_train, y_train, cv=2, scoring=\"accuracy\")\n",
    "lr_cv_score = cross_val_score(lr_clf, X_train, y_train, cv=2, scoring=\"accuracy\")\n",
    "dt_cv_score = cross_val_score(dt_clf, X_train, y_train, cv=2, scoring=\"accuracy\")\n",
    "nb_cv_score = cross_val_score(nb_clf, X_train, y_train, cv=2, scoring=\"accuracy\")"
   ]
  },
  {
   "cell_type": "code",
   "execution_count": 39,
   "id": "f496f169",
   "metadata": {},
   "outputs": [
    {
     "name": "stderr",
     "output_type": "stream",
     "text": [
      "C:\\Users\\dell\\miniconda3\\envs\\Machinelearningenv\\lib\\site-packages\\sklearn\\neighbors\\base.py:441: DeprecationWarning: distutils Version classes are deprecated. Use packaging.version instead.\n",
      "  old_joblib = LooseVersion(joblib_version) < LooseVersion('0.12')\n",
      "C:\\Users\\dell\\miniconda3\\envs\\Machinelearningenv\\lib\\site-packages\\sklearn\\neighbors\\base.py:441: DeprecationWarning: distutils Version classes are deprecated. Use packaging.version instead.\n",
      "  old_joblib = LooseVersion(joblib_version) < LooseVersion('0.12')\n",
      "C:\\Users\\dell\\miniconda3\\envs\\Machinelearningenv\\lib\\site-packages\\sklearn\\neighbors\\base.py:441: DeprecationWarning: distutils Version classes are deprecated. Use packaging.version instead.\n",
      "  old_joblib = LooseVersion(joblib_version) < LooseVersion('0.12')\n",
      "C:\\Users\\dell\\miniconda3\\envs\\Machinelearningenv\\lib\\site-packages\\sklearn\\neighbors\\base.py:441: DeprecationWarning: distutils Version classes are deprecated. Use packaging.version instead.\n",
      "  old_joblib = LooseVersion(joblib_version) < LooseVersion('0.12')\n"
     ]
    }
   ],
   "source": [
    "knn_cv_score = cross_val_score(knn_clf, X_train, y_train, cv=2, scoring=\"accuracy\")"
   ]
  },
  {
   "cell_type": "code",
   "execution_count": 40,
   "id": "3aef9664",
   "metadata": {},
   "outputs": [],
   "source": [
    "accuracy_dict = {\n",
    "    \"Random Forest Accuracy\": rf_cv_score,\n",
    "    \"Logistic Regression Accuracy\": lr_cv_score,\n",
    "    \"Decision Tree Accuracy\": dt_cv_score,\n",
    "    \"Naive Bayes Accuracy\": nb_cv_score,\n",
    "    \"KNN Accuracy\": knn_cv_score\n",
    "}"
   ]
  },
  {
   "cell_type": "code",
   "execution_count": 42,
   "id": "2249d519",
   "metadata": {},
   "outputs": [],
   "source": [
    "accuracy_dataframe = pd.DataFrame(accuracy_dict, index=[0,1])"
   ]
  },
  {
   "cell_type": "code",
   "execution_count": 43,
   "id": "03d8dc9e",
   "metadata": {},
   "outputs": [
    {
     "data": {
      "text/html": [
       "<div>\n",
       "<style scoped>\n",
       "    .dataframe tbody tr th:only-of-type {\n",
       "        vertical-align: middle;\n",
       "    }\n",
       "\n",
       "    .dataframe tbody tr th {\n",
       "        vertical-align: top;\n",
       "    }\n",
       "\n",
       "    .dataframe thead th {\n",
       "        text-align: right;\n",
       "    }\n",
       "</style>\n",
       "<table border=\"1\" class=\"dataframe\">\n",
       "  <thead>\n",
       "    <tr style=\"text-align: right;\">\n",
       "      <th></th>\n",
       "      <th>Random Forest Accuracy</th>\n",
       "      <th>Logistic Regression Accuracy</th>\n",
       "      <th>Decision Tree Accuracy</th>\n",
       "      <th>Naive Bayes Accuracy</th>\n",
       "      <th>KNN Accuracy</th>\n",
       "    </tr>\n",
       "  </thead>\n",
       "  <tbody>\n",
       "    <tr>\n",
       "      <th>0</th>\n",
       "      <td>0.93434</td>\n",
       "      <td>0.901543</td>\n",
       "      <td>0.847949</td>\n",
       "      <td>0.818518</td>\n",
       "      <td>0.96337</td>\n",
       "    </tr>\n",
       "    <tr>\n",
       "      <th>1</th>\n",
       "      <td>0.93766</td>\n",
       "      <td>0.903990</td>\n",
       "      <td>0.847118</td>\n",
       "      <td>0.829250</td>\n",
       "      <td>0.96393</td>\n",
       "    </tr>\n",
       "  </tbody>\n",
       "</table>\n",
       "</div>"
      ],
      "text/plain": [
       "   Random Forest Accuracy  Logistic Regression Accuracy  \\\n",
       "0                 0.93434                      0.901543   \n",
       "1                 0.93766                      0.903990   \n",
       "\n",
       "   Decision Tree Accuracy  Naive Bayes Accuracy  KNN Accuracy  \n",
       "0                0.847949              0.818518       0.96337  \n",
       "1                0.847118              0.829250       0.96393  "
      ]
     },
     "execution_count": 43,
     "metadata": {},
     "output_type": "execute_result"
    }
   ],
   "source": [
    "accuracy_dataframe"
   ]
  },
  {
   "cell_type": "code",
   "execution_count": 44,
   "id": "31c03074",
   "metadata": {},
   "outputs": [],
   "source": [
    "# Checking out the confusion Matrix"
   ]
  },
  {
   "cell_type": "code",
   "execution_count": 45,
   "id": "d6068449",
   "metadata": {},
   "outputs": [],
   "source": [
    "from sklearn.model_selection import cross_val_predict"
   ]
  },
  {
   "cell_type": "code",
   "execution_count": 49,
   "id": "f65fb2a8",
   "metadata": {},
   "outputs": [],
   "source": [
    "# Cross Val pred gives us predictions after performing k-fold cross validation"
   ]
  },
  {
   "cell_type": "code",
   "execution_count": 50,
   "id": "6f6c777c",
   "metadata": {},
   "outputs": [
    {
     "name": "stderr",
     "output_type": "stream",
     "text": [
      "C:\\Users\\dell\\miniconda3\\envs\\Machinelearningenv\\lib\\site-packages\\sklearn\\ensemble\\forest.py:245: FutureWarning: The default value of n_estimators will change from 10 in version 0.20 to 100 in 0.22.\n",
      "  \"10 in version 0.20 to 100 in 0.22.\", FutureWarning)\n",
      "C:\\Users\\dell\\miniconda3\\envs\\Machinelearningenv\\lib\\site-packages\\sklearn\\utils\\fixes.py:223: DeprecationWarning: distutils Version classes are deprecated. Use packaging.version instead.\n",
      "  if _joblib.__version__ >= LooseVersion('0.12'):\n",
      "C:\\Users\\dell\\miniconda3\\envs\\Machinelearningenv\\lib\\site-packages\\sklearn\\utils\\fixes.py:223: DeprecationWarning: distutils Version classes are deprecated. Use packaging.version instead.\n",
      "  if _joblib.__version__ >= LooseVersion('0.12'):\n",
      "C:\\Users\\dell\\miniconda3\\envs\\Machinelearningenv\\lib\\site-packages\\sklearn\\ensemble\\forest.py:245: FutureWarning: The default value of n_estimators will change from 10 in version 0.20 to 100 in 0.22.\n",
      "  \"10 in version 0.20 to 100 in 0.22.\", FutureWarning)\n",
      "C:\\Users\\dell\\miniconda3\\envs\\Machinelearningenv\\lib\\site-packages\\sklearn\\utils\\fixes.py:223: DeprecationWarning: distutils Version classes are deprecated. Use packaging.version instead.\n",
      "  if _joblib.__version__ >= LooseVersion('0.12'):\n",
      "C:\\Users\\dell\\miniconda3\\envs\\Machinelearningenv\\lib\\site-packages\\sklearn\\utils\\fixes.py:223: DeprecationWarning: distutils Version classes are deprecated. Use packaging.version instead.\n",
      "  if _joblib.__version__ >= LooseVersion('0.12'):\n",
      "C:\\Users\\dell\\miniconda3\\envs\\Machinelearningenv\\lib\\site-packages\\sklearn\\ensemble\\forest.py:245: FutureWarning: The default value of n_estimators will change from 10 in version 0.20 to 100 in 0.22.\n",
      "  \"10 in version 0.20 to 100 in 0.22.\", FutureWarning)\n",
      "C:\\Users\\dell\\miniconda3\\envs\\Machinelearningenv\\lib\\site-packages\\sklearn\\utils\\fixes.py:223: DeprecationWarning: distutils Version classes are deprecated. Use packaging.version instead.\n",
      "  if _joblib.__version__ >= LooseVersion('0.12'):\n",
      "C:\\Users\\dell\\miniconda3\\envs\\Machinelearningenv\\lib\\site-packages\\sklearn\\utils\\fixes.py:223: DeprecationWarning: distutils Version classes are deprecated. Use packaging.version instead.\n",
      "  if _joblib.__version__ >= LooseVersion('0.12'):\n",
      "C:\\Users\\dell\\miniconda3\\envs\\Machinelearningenv\\lib\\site-packages\\sklearn\\linear_model\\logistic.py:432: FutureWarning: Default solver will be changed to 'lbfgs' in 0.22. Specify a solver to silence this warning.\n",
      "  FutureWarning)\n",
      "C:\\Users\\dell\\miniconda3\\envs\\Machinelearningenv\\lib\\site-packages\\sklearn\\linear_model\\logistic.py:469: FutureWarning: Default multi_class will be changed to 'auto' in 0.22. Specify the multi_class option to silence this warning.\n",
      "  \"this warning.\", FutureWarning)\n",
      "C:\\Users\\dell\\miniconda3\\envs\\Machinelearningenv\\lib\\site-packages\\sklearn\\svm\\base.py:929: ConvergenceWarning: Liblinear failed to converge, increase the number of iterations.\n",
      "  \"the number of iterations.\", ConvergenceWarning)\n",
      "C:\\Users\\dell\\miniconda3\\envs\\Machinelearningenv\\lib\\site-packages\\sklearn\\linear_model\\logistic.py:432: FutureWarning: Default solver will be changed to 'lbfgs' in 0.22. Specify a solver to silence this warning.\n",
      "  FutureWarning)\n",
      "C:\\Users\\dell\\miniconda3\\envs\\Machinelearningenv\\lib\\site-packages\\sklearn\\linear_model\\logistic.py:469: FutureWarning: Default multi_class will be changed to 'auto' in 0.22. Specify the multi_class option to silence this warning.\n",
      "  \"this warning.\", FutureWarning)\n",
      "C:\\Users\\dell\\miniconda3\\envs\\Machinelearningenv\\lib\\site-packages\\sklearn\\svm\\base.py:929: ConvergenceWarning: Liblinear failed to converge, increase the number of iterations.\n",
      "  \"the number of iterations.\", ConvergenceWarning)\n",
      "C:\\Users\\dell\\miniconda3\\envs\\Machinelearningenv\\lib\\site-packages\\sklearn\\linear_model\\logistic.py:432: FutureWarning: Default solver will be changed to 'lbfgs' in 0.22. Specify a solver to silence this warning.\n",
      "  FutureWarning)\n",
      "C:\\Users\\dell\\miniconda3\\envs\\Machinelearningenv\\lib\\site-packages\\sklearn\\linear_model\\logistic.py:469: FutureWarning: Default multi_class will be changed to 'auto' in 0.22. Specify the multi_class option to silence this warning.\n",
      "  \"this warning.\", FutureWarning)\n",
      "C:\\Users\\dell\\miniconda3\\envs\\Machinelearningenv\\lib\\site-packages\\sklearn\\svm\\base.py:929: ConvergenceWarning: Liblinear failed to converge, increase the number of iterations.\n",
      "  \"the number of iterations.\", ConvergenceWarning)\n",
      "C:\\Users\\dell\\miniconda3\\envs\\Machinelearningenv\\lib\\site-packages\\sklearn\\neighbors\\base.py:441: DeprecationWarning: distutils Version classes are deprecated. Use packaging.version instead.\n",
      "  old_joblib = LooseVersion(joblib_version) < LooseVersion('0.12')\n",
      "C:\\Users\\dell\\miniconda3\\envs\\Machinelearningenv\\lib\\site-packages\\sklearn\\neighbors\\base.py:441: DeprecationWarning: distutils Version classes are deprecated. Use packaging.version instead.\n",
      "  old_joblib = LooseVersion(joblib_version) < LooseVersion('0.12')\n",
      "C:\\Users\\dell\\miniconda3\\envs\\Machinelearningenv\\lib\\site-packages\\sklearn\\neighbors\\base.py:441: DeprecationWarning: distutils Version classes are deprecated. Use packaging.version instead.\n",
      "  old_joblib = LooseVersion(joblib_version) < LooseVersion('0.12')\n",
      "C:\\Users\\dell\\miniconda3\\envs\\Machinelearningenv\\lib\\site-packages\\sklearn\\neighbors\\base.py:441: DeprecationWarning: distutils Version classes are deprecated. Use packaging.version instead.\n",
      "  old_joblib = LooseVersion(joblib_version) < LooseVersion('0.12')\n",
      "C:\\Users\\dell\\miniconda3\\envs\\Machinelearningenv\\lib\\site-packages\\sklearn\\neighbors\\base.py:441: DeprecationWarning: distutils Version classes are deprecated. Use packaging.version instead.\n",
      "  old_joblib = LooseVersion(joblib_version) < LooseVersion('0.12')\n",
      "C:\\Users\\dell\\miniconda3\\envs\\Machinelearningenv\\lib\\site-packages\\sklearn\\neighbors\\base.py:441: DeprecationWarning: distutils Version classes are deprecated. Use packaging.version instead.\n",
      "  old_joblib = LooseVersion(joblib_version) < LooseVersion('0.12')\n"
     ]
    }
   ],
   "source": [
    "rf_pred = cross_val_predict(rf_clf, X_train, y_train, cv=3)\n",
    "lr_pred = cross_val_predict(lr_clf, X_train, y_train, cv=3)\n",
    "dt_pred = cross_val_predict(dt_clf, X_train, y_train, cv=3)\n",
    "nb_pred = cross_val_predict(nb_clf, X_train, y_train, cv=3)\n",
    "knn_pred = cross_val_predict(knn_clf, X_train, y_train, cv=3)"
   ]
  },
  {
   "cell_type": "code",
   "execution_count": 51,
   "id": "8d90f174",
   "metadata": {},
   "outputs": [],
   "source": [
    "from sklearn.metrics import confusion_matrix\n",
    "rf_confusion_matrix = confusion_matrix(y_train, rf_pred)\n",
    "lr_confusion_matrix = confusion_matrix(y_train, lr_pred)\n",
    "dt_confusion_matrix = confusion_matrix(y_train, dt_pred)\n",
    "nb_confusion_matrix = confusion_matrix(y_train, nb_pred)\n",
    "knn_confusion_matrix = confusion_matrix(y_train, knn_pred)"
   ]
  },
  {
   "cell_type": "code",
   "execution_count": 72,
   "id": "a736d7ee",
   "metadata": {},
   "outputs": [],
   "source": [
    "# Plotting only Random Forest and K nearest Neighbours as they have the best accuracy"
   ]
  },
  {
   "cell_type": "code",
   "execution_count": 70,
   "id": "6d8eed8e",
   "metadata": {},
   "outputs": [
    {
     "name": "stdout",
     "output_type": "stream",
     "text": [
      "Random Forest Confusion Matrix: \n"
     ]
    },
    {
     "data": {
      "image/png": "[encoded data removed]",
      "text/plain": [
       "<Figure size 720x360 with 2 Axes>"
      ]
     },
     "metadata": {
      "needs_background": "light"
     },
     "output_type": "display_data"
    }
   ],
   "source": [
    "print(\"Random Forest Confusion Matrix: \")\n",
    "plt.figure(figsize=(10,5))\n",
    "plt.matshow(rf_confusion_matrix, fignum=1, cmap=plt.cm.gray);\n",
    "plt.colorbar();"
   ]
  },
  {
   "cell_type": "code",
   "execution_count": 71,
   "id": "d39295cc",
   "metadata": {},
   "outputs": [
    {
     "name": "stdout",
     "output_type": "stream",
     "text": [
      "KNN Confusion Matrix: \n"
     ]
    },
    {
     "data": {
      "image/png": "[encoded data removed]",
      "text/plain": [
       "<Figure size 720x360 with 2 Axes>"
      ]
     },
     "metadata": {
      "needs_background": "light"
     },
     "output_type": "display_data"
    }
   ],
   "source": [
    "print(\"KNN Confusion Matrix: \")\n",
    "plt.figure(figsize=(10,5))\n",
    "plt.matshow(knn_confusion_matrix, fignum=1, cmap=plt.cm.gray);\n",
    "plt.colorbar();"
   ]
  },
  {
   "cell_type": "code",
   "execution_count": 73,
   "id": "7ede0bf0",
   "metadata": {},
   "outputs": [],
   "source": [
    "from sklearn.metrics import classification_report\n",
    "rf_classification_report = classification_report(y_train, rf_pred)\n",
    "knn_classification_report = classification_report(y_train, knn_pred)"
   ]
  },
  {
   "cell_type": "code",
   "execution_count": 82,
   "id": "5a656041",
   "metadata": {},
   "outputs": [
    {
     "name": "stdout",
     "output_type": "stream",
     "text": [
      "Random Forest Classification Report:\n",
      "              precision    recall  f1-score   support\n",
      "\n",
      "           0       0.95      0.98      0.97      5923\n",
      "           1       0.97      0.98      0.98      6742\n",
      "           2       0.92      0.94      0.93      5958\n",
      "           3       0.91      0.91      0.91      6131\n",
      "           4       0.93      0.95      0.94      5842\n",
      "           5       0.92      0.92      0.92      5421\n",
      "           6       0.96      0.96      0.96      5918\n",
      "           7       0.96      0.95      0.95      6265\n",
      "           8       0.93      0.89      0.91      5851\n",
      "           9       0.93      0.90      0.92      5949\n",
      "\n",
      "    accuracy                           0.94     60000\n",
      "   macro avg       0.94      0.94      0.94     60000\n",
      "weighted avg       0.94      0.94      0.94     60000\n",
      "\n"
     ]
    }
   ],
   "source": [
    "print(\"Random Forest Classification Report:\")\n",
    "print(rf_classification_report)"
   ]
  },
  {
   "cell_type": "code",
   "execution_count": 83,
   "id": "9255847d",
   "metadata": {},
   "outputs": [
    {
     "name": "stdout",
     "output_type": "stream",
     "text": [
      "K nearest neighbours Classification Report:\n",
      "              precision    recall  f1-score   support\n",
      "\n",
      "           0       0.98      0.99      0.98      5923\n",
      "           1       0.95      0.99      0.97      6742\n",
      "           2       0.98      0.96      0.97      5958\n",
      "           3       0.96      0.96      0.96      6131\n",
      "           4       0.98      0.96      0.97      5842\n",
      "           5       0.96      0.96      0.96      5421\n",
      "           6       0.98      0.99      0.98      5918\n",
      "           7       0.96      0.97      0.97      6265\n",
      "           8       0.98      0.92      0.95      5851\n",
      "           9       0.95      0.96      0.95      5949\n",
      "\n",
      "    accuracy                           0.97     60000\n",
      "   macro avg       0.97      0.97      0.97     60000\n",
      "weighted avg       0.97      0.97      0.97     60000\n",
      "\n"
     ]
    }
   ],
   "source": [
    "print(\"K nearest neighbours Classification Report:\")\n",
    "print(knn_classification_report)"
   ]
  },
  {
   "cell_type": "code",
   "execution_count": 84,
   "id": "c90e9fa7",
   "metadata": {},
   "outputs": [],
   "source": [
    "# Using Decision Functions to get Precision and Recall"
   ]
  },
  {
   "cell_type": "code",
   "execution_count": null,
   "id": "0f6b7b80",
   "metadata": {},
   "outputs": [],
   "source": []
  }
 ],
 "metadata": {
  "kernelspec": {
   "display_name": "Python 3 (ipykernel)",
   "language": "python",
   "name": "python3"
  },
  "language_info": {
   "codemirror_mode": {
    "name": "ipython",
    "version": 3
   },
   "file_extension": ".py",
   "mimetype": "text/x-python",
   "name": "python",
   "nbconvert_exporter": "python",
   "pygments_lexer": "ipython3",
   "version": "3.7.0"
  }
 },
 "nbformat": 4,
 "nbformat_minor": 5
}
